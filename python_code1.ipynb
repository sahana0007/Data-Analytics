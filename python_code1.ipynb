{
 "cells": [
  {
   "cell_type": "code",
   "execution_count": 1,
   "id": "b1f65ed0",
   "metadata": {},
   "outputs": [],
   "source": [
    "import numpy as np\n",
    "import pandas as pd\n",
    "from matplotlib import pyplot as plt\n",
    "import seaborn as sns\n"
   ]
  },
  {
   "cell_type": "code",
   "execution_count": 2,
   "id": "c7b61929",
   "metadata": {},
   "outputs": [
    {
     "name": "stdout",
     "output_type": "stream",
     "text": [
      "<class 'pandas.core.frame.DataFrame'>\n",
      "RangeIndex: 45472 entries, 0 to 45471\n",
      "Data columns (total 10 columns):\n",
      " #   Column               Non-Null Count  Dtype  \n",
      "---  ------               --------------  -----  \n",
      " 0   month                45472 non-null  object \n",
      " 1   town                 45472 non-null  object \n",
      " 2   flat_type            45472 non-null  object \n",
      " 3   block                45472 non-null  object \n",
      " 4   street_name          45472 non-null  object \n",
      " 5   storey_range         45472 non-null  object \n",
      " 6   floor_area_sqm       45472 non-null  float64\n",
      " 7   flat_model           45472 non-null  object \n",
      " 8   lease_commence_date  45472 non-null  int64  \n",
      " 9   resale_price         45472 non-null  int64  \n",
      "dtypes: float64(1), int64(2), object(7)\n",
      "memory usage: 3.5+ MB\n"
     ]
    }
   ],
   "source": [
    "df_household = pd.read_csv('F:/FALL 2021/DA assignment1/Resale flat price/flat-prices1.csv', encoding='ISO-8859-1')\n",
    "df_household.info()"
   ]
  },
  {
   "cell_type": "code",
   "execution_count": 3,
   "id": "19153e7c",
   "metadata": {},
   "outputs": [
    {
     "data": {
      "text/html": [
       "<div>\n",
       "<style scoped>\n",
       "    .dataframe tbody tr th:only-of-type {\n",
       "        vertical-align: middle;\n",
       "    }\n",
       "\n",
       "    .dataframe tbody tr th {\n",
       "        vertical-align: top;\n",
       "    }\n",
       "\n",
       "    .dataframe thead th {\n",
       "        text-align: right;\n",
       "    }\n",
       "</style>\n",
       "<table border=\"1\" class=\"dataframe\">\n",
       "  <thead>\n",
       "    <tr style=\"text-align: right;\">\n",
       "      <th></th>\n",
       "      <th>floor_area_sqm</th>\n",
       "      <th>lease_commence_date</th>\n",
       "      <th>resale_price</th>\n",
       "    </tr>\n",
       "  </thead>\n",
       "  <tbody>\n",
       "    <tr>\n",
       "      <th>count</th>\n",
       "      <td>45472.000000</td>\n",
       "      <td>45472.000000</td>\n",
       "      <td>45472.000000</td>\n",
       "    </tr>\n",
       "    <tr>\n",
       "      <th>mean</th>\n",
       "      <td>84.100946</td>\n",
       "      <td>1980.148311</td>\n",
       "      <td>179824.309773</td>\n",
       "    </tr>\n",
       "    <tr>\n",
       "      <th>std</th>\n",
       "      <td>21.705133</td>\n",
       "      <td>3.548332</td>\n",
       "      <td>108375.424023</td>\n",
       "    </tr>\n",
       "    <tr>\n",
       "      <th>min</th>\n",
       "      <td>31.000000</td>\n",
       "      <td>1967.000000</td>\n",
       "      <td>5600.000000</td>\n",
       "    </tr>\n",
       "    <tr>\n",
       "      <th>25%</th>\n",
       "      <td>67.000000</td>\n",
       "      <td>1978.000000</td>\n",
       "      <td>95000.000000</td>\n",
       "    </tr>\n",
       "    <tr>\n",
       "      <th>50%</th>\n",
       "      <td>82.000000</td>\n",
       "      <td>1979.000000</td>\n",
       "      <td>160000.000000</td>\n",
       "    </tr>\n",
       "    <tr>\n",
       "      <th>75%</th>\n",
       "      <td>92.000000</td>\n",
       "      <td>1981.000000</td>\n",
       "      <td>238000.000000</td>\n",
       "    </tr>\n",
       "    <tr>\n",
       "      <th>max</th>\n",
       "      <td>173.000000</td>\n",
       "      <td>1996.000000</td>\n",
       "      <td>720000.000000</td>\n",
       "    </tr>\n",
       "  </tbody>\n",
       "</table>\n",
       "</div>"
      ],
      "text/plain": [
       "       floor_area_sqm  lease_commence_date   resale_price\n",
       "count    45472.000000         45472.000000   45472.000000\n",
       "mean        84.100946          1980.148311  179824.309773\n",
       "std         21.705133             3.548332  108375.424023\n",
       "min         31.000000          1967.000000    5600.000000\n",
       "25%         67.000000          1978.000000   95000.000000\n",
       "50%         82.000000          1979.000000  160000.000000\n",
       "75%         92.000000          1981.000000  238000.000000\n",
       "max        173.000000          1996.000000  720000.000000"
      ]
     },
     "execution_count": 3,
     "metadata": {},
     "output_type": "execute_result"
    }
   ],
   "source": [
    "df_household.describe()"
   ]
  },
  {
   "cell_type": "code",
   "execution_count": 4,
   "id": "c0a6b942",
   "metadata": {},
   "outputs": [
    {
     "data": {
      "text/html": [
       "<div>\n",
       "<style scoped>\n",
       "    .dataframe tbody tr th:only-of-type {\n",
       "        vertical-align: middle;\n",
       "    }\n",
       "\n",
       "    .dataframe tbody tr th {\n",
       "        vertical-align: top;\n",
       "    }\n",
       "\n",
       "    .dataframe thead th {\n",
       "        text-align: right;\n",
       "    }\n",
       "</style>\n",
       "<table border=\"1\" class=\"dataframe\">\n",
       "  <thead>\n",
       "    <tr style=\"text-align: right;\">\n",
       "      <th></th>\n",
       "      <th>month</th>\n",
       "      <th>town</th>\n",
       "      <th>flat_type</th>\n",
       "      <th>block</th>\n",
       "      <th>street_name</th>\n",
       "      <th>storey_range</th>\n",
       "      <th>floor_area_sqm</th>\n",
       "      <th>flat_model</th>\n",
       "      <th>lease_commence_date</th>\n",
       "      <th>resale_price</th>\n",
       "    </tr>\n",
       "  </thead>\n",
       "  <tbody>\n",
       "    <tr>\n",
       "      <th>0</th>\n",
       "      <td>1990-01</td>\n",
       "      <td>KALLANG/WHAMPOA</td>\n",
       "      <td>5 ROOM</td>\n",
       "      <td>103</td>\n",
       "      <td>AH HOOD RD</td>\n",
       "      <td>16 TO 18</td>\n",
       "      <td>122.0</td>\n",
       "      <td>IMPROVED</td>\n",
       "      <td>1981</td>\n",
       "      <td>150000</td>\n",
       "    </tr>\n",
       "    <tr>\n",
       "      <th>1</th>\n",
       "      <td>1990-01</td>\n",
       "      <td>KALLANG/WHAMPOA</td>\n",
       "      <td>5 ROOM</td>\n",
       "      <td>103</td>\n",
       "      <td>AH HOOD RD</td>\n",
       "      <td>10 TO 12</td>\n",
       "      <td>118.0</td>\n",
       "      <td>IMPROVED</td>\n",
       "      <td>1981</td>\n",
       "      <td>182000</td>\n",
       "    </tr>\n",
       "    <tr>\n",
       "      <th>2</th>\n",
       "      <td>1990-02</td>\n",
       "      <td>KALLANG/WHAMPOA</td>\n",
       "      <td>5 ROOM</td>\n",
       "      <td>101</td>\n",
       "      <td>AH HOOD RD</td>\n",
       "      <td>19 TO 21</td>\n",
       "      <td>118.0</td>\n",
       "      <td>IMPROVED</td>\n",
       "      <td>1981</td>\n",
       "      <td>170000</td>\n",
       "    </tr>\n",
       "    <tr>\n",
       "      <th>3</th>\n",
       "      <td>1990-02</td>\n",
       "      <td>KALLANG/WHAMPOA</td>\n",
       "      <td>5 ROOM</td>\n",
       "      <td>103</td>\n",
       "      <td>AH HOOD RD</td>\n",
       "      <td>10 TO 12</td>\n",
       "      <td>118.0</td>\n",
       "      <td>IMPROVED</td>\n",
       "      <td>1981</td>\n",
       "      <td>160000</td>\n",
       "    </tr>\n",
       "    <tr>\n",
       "      <th>4</th>\n",
       "      <td>1990-05</td>\n",
       "      <td>KALLANG/WHAMPOA</td>\n",
       "      <td>5 ROOM</td>\n",
       "      <td>101</td>\n",
       "      <td>AH HOOD RD</td>\n",
       "      <td>10 TO 12</td>\n",
       "      <td>118.0</td>\n",
       "      <td>IMPROVED</td>\n",
       "      <td>1981</td>\n",
       "      <td>190000</td>\n",
       "    </tr>\n",
       "  </tbody>\n",
       "</table>\n",
       "</div>"
      ],
      "text/plain": [
       "     month             town flat_type block street_name storey_range  \\\n",
       "0  1990-01  KALLANG/WHAMPOA    5 ROOM   103  AH HOOD RD     16 TO 18   \n",
       "1  1990-01  KALLANG/WHAMPOA    5 ROOM   103  AH HOOD RD     10 TO 12   \n",
       "2  1990-02  KALLANG/WHAMPOA    5 ROOM   101  AH HOOD RD     19 TO 21   \n",
       "3  1990-02  KALLANG/WHAMPOA    5 ROOM   103  AH HOOD RD     10 TO 12   \n",
       "4  1990-05  KALLANG/WHAMPOA    5 ROOM   101  AH HOOD RD     10 TO 12   \n",
       "\n",
       "   floor_area_sqm flat_model  lease_commence_date  resale_price  \n",
       "0           122.0   IMPROVED                 1981        150000  \n",
       "1           118.0   IMPROVED                 1981        182000  \n",
       "2           118.0   IMPROVED                 1981        170000  \n",
       "3           118.0   IMPROVED                 1981        160000  \n",
       "4           118.0   IMPROVED                 1981        190000  "
      ]
     },
     "execution_count": 4,
     "metadata": {},
     "output_type": "execute_result"
    }
   ],
   "source": [
    "df_household.head()"
   ]
  },
  {
   "cell_type": "code",
   "execution_count": 5,
   "id": "c3049f93",
   "metadata": {},
   "outputs": [
    {
     "data": {
      "text/plain": [
       "<AxesSubplot:xlabel='flat_model', ylabel='resale_price'>"
      ]
     },
     "execution_count": 5,
     "metadata": {},
     "output_type": "execute_result"
    },
    {
     "data": {
      "image/png": "[encoded data removed]",
      "text/plain": [
       "<Figure size 1440x720 with 1 Axes>"
      ]
     },
     "metadata": {
      "needs_background": "light"
     },
     "output_type": "display_data"
    }
   ],
   "source": [
    "plt.subplots(figsize=(20,10))\n",
    "\n",
    "sns.barplot(x='flat_model',y = 'resale_price',data = df_household,palette = 'rocket')"
   ]
  },
  {
   "cell_type": "code",
   "execution_count": 6,
   "id": "97b4a109",
   "metadata": {},
   "outputs": [],
   "source": [
    "#Convert categorical variable into numerical \n",
    "from sklearn.preprocessing import LabelEncoder,StandardScaler\n",
    "\n",
    "label = LabelEncoder()\n",
    "\n",
    "df_household['town'] = label.fit_transform(df_household['town'])\n",
    "df_household['flat_type'] = label.fit_transform(df_household['flat_type'])\n",
    "df_household['street_name'] = label.fit_transform(df_household['street_name'])\n",
    "df_household['storey_range'] = label.fit_transform(df_household['storey_range'])\n",
    "df_household['flat_model'] = label.fit_transform(df_household['flat_model'])"
   ]
  },
  {
   "cell_type": "code",
   "execution_count": 7,
   "id": "79920d0f",
   "metadata": {},
   "outputs": [
    {
     "data": {
      "text/html": [
       "<div>\n",
       "<style scoped>\n",
       "    .dataframe tbody tr th:only-of-type {\n",
       "        vertical-align: middle;\n",
       "    }\n",
       "\n",
       "    .dataframe tbody tr th {\n",
       "        vertical-align: top;\n",
       "    }\n",
       "\n",
       "    .dataframe thead th {\n",
       "        text-align: right;\n",
       "    }\n",
       "</style>\n",
       "<table border=\"1\" class=\"dataframe\">\n",
       "  <thead>\n",
       "    <tr style=\"text-align: right;\">\n",
       "      <th></th>\n",
       "      <th>month</th>\n",
       "      <th>town</th>\n",
       "      <th>flat_type</th>\n",
       "      <th>block</th>\n",
       "      <th>street_name</th>\n",
       "      <th>storey_range</th>\n",
       "      <th>floor_area_sqm</th>\n",
       "      <th>flat_model</th>\n",
       "      <th>lease_commence_date</th>\n",
       "      <th>resale_price</th>\n",
       "    </tr>\n",
       "  </thead>\n",
       "  <tbody>\n",
       "    <tr>\n",
       "      <th>0</th>\n",
       "      <td>1990-01</td>\n",
       "      <td>6</td>\n",
       "      <td>4</td>\n",
       "      <td>103</td>\n",
       "      <td>0</td>\n",
       "      <td>5</td>\n",
       "      <td>122.0</td>\n",
       "      <td>2</td>\n",
       "      <td>1981</td>\n",
       "      <td>150000</td>\n",
       "    </tr>\n",
       "    <tr>\n",
       "      <th>1</th>\n",
       "      <td>1990-01</td>\n",
       "      <td>6</td>\n",
       "      <td>4</td>\n",
       "      <td>103</td>\n",
       "      <td>0</td>\n",
       "      <td>3</td>\n",
       "      <td>118.0</td>\n",
       "      <td>2</td>\n",
       "      <td>1981</td>\n",
       "      <td>182000</td>\n",
       "    </tr>\n",
       "    <tr>\n",
       "      <th>2</th>\n",
       "      <td>1990-02</td>\n",
       "      <td>6</td>\n",
       "      <td>4</td>\n",
       "      <td>101</td>\n",
       "      <td>0</td>\n",
       "      <td>6</td>\n",
       "      <td>118.0</td>\n",
       "      <td>2</td>\n",
       "      <td>1981</td>\n",
       "      <td>170000</td>\n",
       "    </tr>\n",
       "    <tr>\n",
       "      <th>3</th>\n",
       "      <td>1990-02</td>\n",
       "      <td>6</td>\n",
       "      <td>4</td>\n",
       "      <td>103</td>\n",
       "      <td>0</td>\n",
       "      <td>3</td>\n",
       "      <td>118.0</td>\n",
       "      <td>2</td>\n",
       "      <td>1981</td>\n",
       "      <td>160000</td>\n",
       "    </tr>\n",
       "    <tr>\n",
       "      <th>4</th>\n",
       "      <td>1990-05</td>\n",
       "      <td>6</td>\n",
       "      <td>4</td>\n",
       "      <td>101</td>\n",
       "      <td>0</td>\n",
       "      <td>3</td>\n",
       "      <td>118.0</td>\n",
       "      <td>2</td>\n",
       "      <td>1981</td>\n",
       "      <td>190000</td>\n",
       "    </tr>\n",
       "  </tbody>\n",
       "</table>\n",
       "</div>"
      ],
      "text/plain": [
       "     month  town  flat_type block  street_name  storey_range  floor_area_sqm  \\\n",
       "0  1990-01     6          4   103            0             5           122.0   \n",
       "1  1990-01     6          4   103            0             3           118.0   \n",
       "2  1990-02     6          4   101            0             6           118.0   \n",
       "3  1990-02     6          4   103            0             3           118.0   \n",
       "4  1990-05     6          4   101            0             3           118.0   \n",
       "\n",
       "   flat_model  lease_commence_date  resale_price  \n",
       "0           2                 1981        150000  \n",
       "1           2                 1981        182000  \n",
       "2           2                 1981        170000  \n",
       "3           2                 1981        160000  \n",
       "4           2                 1981        190000  "
      ]
     },
     "execution_count": 7,
     "metadata": {},
     "output_type": "execute_result"
    }
   ],
   "source": [
    "df_household.head()"
   ]
  },
  {
   "cell_type": "code",
   "execution_count": 8,
   "id": "2c276175",
   "metadata": {},
   "outputs": [
    {
     "name": "stdout",
     "output_type": "stream",
     "text": [
      "data loss percentage 2.702762139338494%\n"
     ]
    }
   ],
   "source": [
    "# Deal with Outlier with the help of IQR method.\n",
    "Q1 = df_household['resale_price'].quantile(0.25)\n",
    "Q3 = df_household['resale_price'].quantile(0.75)\n",
    "IQR = Q3 - Q1\n",
    "\n",
    "filter = (df_household['resale_price'] >= Q1 - 1.5 * IQR) & (df_household['resale_price']<= Q3 + 1.5 *IQR)\n",
    "train2 = df_household.loc[filter]  \n",
    "print(\"data loss percentage {}%\".format(((len(df_household) - len(train2))/len(df_household))*100))"
   ]
  },
  {
   "cell_type": "code",
   "execution_count": 9,
   "id": "4f9b3e8a",
   "metadata": {},
   "outputs": [
    {
     "name": "stdout",
     "output_type": "stream",
     "text": [
      "143000.0\n"
     ]
    }
   ],
   "source": [
    "print(IQR)"
   ]
  },
  {
   "cell_type": "code",
   "execution_count": 10,
   "id": "ad787215",
   "metadata": {},
   "outputs": [],
   "source": [
    "X = train2.drop(['month','block','resale_price'],axis = 1)\n",
    "y = train2['resale_price']"
   ]
  },
  {
   "cell_type": "code",
   "execution_count": 11,
   "id": "e4922104",
   "metadata": {},
   "outputs": [],
   "source": [
    "standard = StandardScaler()\n",
    "\n",
    "std_x = standard.fit_transform(X)"
   ]
  },
  {
   "cell_type": "code",
   "execution_count": 12,
   "id": "e92ca683",
   "metadata": {},
   "outputs": [],
   "source": [
    "x_final = np.array(std_x)\n",
    "y_final = np.array(y)"
   ]
  },
  {
   "cell_type": "code",
   "execution_count": 13,
   "id": "bb0b6a10",
   "metadata": {},
   "outputs": [],
   "source": [
    "from sklearn.model_selection import train_test_split\n",
    "X_train, X_test, y_train, y_test = train_test_split(x_final, y_final, test_size=0.2)\n"
   ]
  },
  {
   "cell_type": "code",
   "execution_count": 14,
   "id": "245f28df",
   "metadata": {},
   "outputs": [
    {
     "data": {
      "text/plain": [
       "0.4621470332460381"
      ]
     },
     "execution_count": 14,
     "metadata": {},
     "output_type": "execute_result"
    }
   ],
   "source": [
    "from sklearn.linear_model import LinearRegression as LR\n",
    "#Linear Regression\n",
    "model =  LR()\n",
    "model.fit(X_train, y_train)\n",
    "model.score(X_train, y_train)"
   ]
  },
  {
   "cell_type": "code",
   "execution_count": 15,
   "id": "546a9c84",
   "metadata": {},
   "outputs": [],
   "source": [
    "#make prediction for resale_price in test set\n",
    "import math\n",
    "pred_Y = model.predict(X_test)\n",
    "rmseLR = math.sqrt(((y_test - pred_Y)**2).mean())"
   ]
  },
  {
   "cell_type": "code",
   "execution_count": 17,
   "id": "4c10d3ec",
   "metadata": {},
   "outputs": [
    {
     "name": "stdout",
     "output_type": "stream",
     "text": [
      "R^2: 0.4582162987856512\n",
      "Root Mean Squared Error: 69517.04794122624\n"
     ]
    }
   ],
   "source": [
    "#Calculating error for LinearRegression\n",
    "from sklearn.metrics import mean_squared_error\n",
    "from sklearn import metrics\n",
    "print(\"R^2: {}\".format(model.score(X_test, y_test)))\n",
    "rmse = np.sqrt(mean_squared_error(y_test, pred_Y))\n",
    "print(\"Root Mean Squared Error: {}\".format(rmse))\n"
   ]
  },
  {
   "cell_type": "code",
   "execution_count": 18,
   "id": "e05ae55e",
   "metadata": {},
   "outputs": [
    {
     "data": {
      "text/plain": [
       "GradientBoostingRegressor(learning_rate=0.001, max_depth=7, min_samples_leaf=3,\n",
       "                          min_samples_split=4, n_estimators=1000,\n",
       "                          random_state=21)"
      ]
     },
     "execution_count": 18,
     "metadata": {},
     "output_type": "execute_result"
    }
   ],
   "source": [
    "# Model GradientBoostingRegressor\n",
    "from sklearn.ensemble import GradientBoostingRegressor\n",
    "\n",
    "clf = GradientBoostingRegressor(learning_rate = 0.001,n_estimators = 1000,min_samples_split = 4,min_samples_leaf = 3,max_depth = 7,random_state = 21)\n",
    "\n",
    "clf.fit(X_train,y_train)"
   ]
  },
  {
   "cell_type": "code",
   "execution_count": 19,
   "id": "f04ab5be",
   "metadata": {},
   "outputs": [],
   "source": [
    "#make prediction for resale_price in test set\n",
    "pred_Y_GBR = clf.predict(X_test)\n",
    "rmseGBR = math.sqrt(((y_test - pred_Y_GBR)**2).mean()) "
   ]
  },
  {
   "cell_type": "code",
   "execution_count": 20,
   "id": "1161c9ac",
   "metadata": {},
   "outputs": [
    {
     "name": "stdout",
     "output_type": "stream",
     "text": [
      "Root Mean Squared Error: 72319.46628002003\n"
     ]
    }
   ],
   "source": [
    "#Calculating error for GBR\n",
    "from sklearn.metrics import mean_squared_error\n",
    "rmse = np.sqrt(mean_squared_error(y_test, pred_Y_GBR))\n",
    "print(\"Root Mean Squared Error: {}\".format(rmse))\n"
   ]
  },
  {
   "cell_type": "code",
   "execution_count": 21,
   "id": "ce0911d0",
   "metadata": {},
   "outputs": [
    {
     "data": {
      "text/plain": [
       "DecisionTreeRegressor(criterion='mae', max_depth=7, min_samples_leaf=3,\n",
       "                      min_samples_split=5, random_state=100, splitter='random')"
      ]
     },
     "execution_count": 21,
     "metadata": {},
     "output_type": "execute_result"
    }
   ],
   "source": [
    "#model DecisionTreeRegressor\n",
    "from sklearn.tree import DecisionTreeRegressor\n",
    "\n",
    "dtr1 = DecisionTreeRegressor(criterion = 'mae',splitter = 'random',max_depth = 7,min_samples_split = 5,min_samples_leaf = 3,random_state = 100)\n",
    "\n",
    "dtr1.fit(X_train,y_train)\n"
   ]
  },
  {
   "cell_type": "code",
   "execution_count": 22,
   "id": "10b8a41d",
   "metadata": {},
   "outputs": [],
   "source": [
    "#make prediction for resale_price in test set\n",
    "pred_Y_DTR = dtr1.predict(X_test)"
   ]
  },
  {
   "cell_type": "code",
   "execution_count": 23,
   "id": "2012adf6",
   "metadata": {},
   "outputs": [
    {
     "name": "stdout",
     "output_type": "stream",
     "text": [
      "Root Mean Squared Error: 71304.64869905313\n"
     ]
    }
   ],
   "source": [
    "#Calculating error for DecisionTreeRegressor\n",
    "from sklearn.metrics import mean_squared_error\n",
    "from sklearn import metrics\n",
    "rmse = np.sqrt(mean_squared_error(y_test, pred_Y_DTR))\n",
    "print(\"Root Mean Squared Error: {}\".format(rmse))"
   ]
  },
  {
   "cell_type": "code",
   "execution_count": null,
   "id": "c7ae6e7e",
   "metadata": {},
   "outputs": [],
   "source": []
  }
 ],
 "metadata": {
  "kernelspec": {
   "display_name": "Python 3 (ipykernel)",
   "language": "python",
   "name": "python3"
  },
  "language_info": {
   "codemirror_mode": {
    "name": "ipython",
    "version": 3
   },
   "file_extension": ".py",
   "mimetype": "text/x-python",
   "name": "python",
   "nbconvert_exporter": "python",
   "pygments_lexer": "ipython3",
   "version": "3.7.11"
  }
 },
 "nbformat": 4,
 "nbformat_minor": 5
}
